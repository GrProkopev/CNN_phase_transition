{
 "cells": [
  {
   "cell_type": "code",
   "execution_count": 1,
   "metadata": {
    "ExecuteTime": {
     "end_time": "2021-03-01T09:03:08.368996Z",
     "start_time": "2021-03-01T09:03:07.656107Z"
    }
   },
   "outputs": [],
   "source": [
    "import numpy as np\n",
    "import networkx as nx"
   ]
  },
  {
   "cell_type": "code",
   "execution_count": 2,
   "metadata": {
    "ExecuteTime": {
     "end_time": "2021-03-01T09:03:08.404958Z",
     "start_time": "2021-03-01T09:03:08.394943Z"
    }
   },
   "outputs": [
    {
     "output_type": "execute_result",
     "data": {
      "text/plain": [
       "0.994972861071817"
      ]
     },
     "metadata": {},
     "execution_count": 2
    }
   ],
   "source": [
    "T_c = 1 / np.log(1 + np.sqrt(3))\n",
    "T_c"
   ]
  },
  {
   "cell_type": "code",
   "execution_count": 3,
   "metadata": {
    "ExecuteTime": {
     "end_time": "2021-03-01T09:03:08.464924Z",
     "start_time": "2021-03-01T09:03:08.453923Z"
    }
   },
   "outputs": [],
   "source": [
    "class Lattice():\n",
    "    def __init__(self, L, q=2):\n",
    "        self.G = nx.grid_2d_graph(L, L)\n",
    "        self.L = L\n",
    "        self.q = q\n",
    "\n",
    "        # initial state:\n",
    "        for n, spin in zip(self.G.nodes, np.random.randint(self.q, size=self.L**2)):\n",
    "            self.G.nodes[n]['spin'] = spin\n",
    "            \n",
    "    def clusterize(self, p):\n",
    "    \n",
    "        for e in self.G.edges:\n",
    "            if self.G.nodes[e[0]]['spin'] == self.G.nodes[e[1]]['spin']:\n",
    "                if np.random.uniform() < p:\n",
    "                    self.G.edges[e]['bond'] = 1\n",
    "                else:\n",
    "                    self.G.edges[e]['bond'] = 0\n",
    "            else:\n",
    "                self.G.edges[e]['bond'] = 0\n",
    "\n",
    "        g = nx.Graph()        \n",
    "        g.add_nodes_from(self.G.nodes(data=True))\n",
    "        g.add_edges_from([e for e in self.G.edges if self.G.edges[e]['bond'] == 1])\n",
    "\n",
    "        for cc in nx.connected_components(g):\n",
    "            new_spin = np.random.randint(self.q)\n",
    "            for node in cc:\n",
    "                g.nodes[node]['spin'] = new_spin\n",
    "\n",
    "        edges_G = list(self.G.edges(data=True))\n",
    "        self.G.remove_nodes_from(list(self.G.nodes))\n",
    "        self.G.add_nodes_from(g.nodes(data=True))\n",
    "        self.G.add_edges_from(edges_G)"
   ]
  },
  {
   "cell_type": "code",
   "execution_count": 4,
   "metadata": {
    "ExecuteTime": {
     "end_time": "2021-03-01T09:03:10.378559Z",
     "start_time": "2021-03-01T09:03:10.374556Z"
    }
   },
   "outputs": [],
   "source": [
    "import time"
   ]
  },
  {
   "cell_type": "code",
   "execution_count": 5,
   "metadata": {
    "ExecuteTime": {
     "end_time": "2021-03-01T09:03:11.333036Z",
     "start_time": "2021-03-01T09:03:11.330050Z"
    }
   },
   "outputs": [
    {
     "output_type": "execute_result",
     "data": {
      "text/plain": [
       "0.994972861071817"
      ]
     },
     "metadata": {},
     "execution_count": 5
    }
   ],
   "source": [
    "T_c"
   ]
  },
  {
   "cell_type": "code",
   "execution_count": 6,
   "metadata": {
    "ExecuteTime": {
     "end_time": "2021-03-01T09:03:26.532071Z",
     "start_time": "2021-03-01T09:03:26.528069Z"
    }
   },
   "outputs": [],
   "source": [
    "L_range = [10, 20, 30, 40]\n",
    "\n",
    "T_range_07_13 = np.round(np.arange(0.7, 1.3, 0.06), 2)\n",
    "T_range_094_1 = np.linspace(0.94, 1, 11)[1:-1]\n",
    "T_range_0994_1 = np.round(np.linspace(0.994, 1, 21)[1:-1], 4)"
   ]
  },
  {
   "cell_type": "code",
   "execution_count": 8,
   "metadata": {},
   "outputs": [
    {
     "output_type": "stream",
     "name": "stdout",
     "text": [
      "102 0.7\n103 0.76\n104 0.82\n105 0.88\n106 0.94\n107 1.0\n108 1.06\n109 1.12\n110 1.18\n111 1.24\n112 1.3\n202 0.7\n203 0.76\n204 0.82\n205 0.88\n206 0.94\n207 1.0\n208 1.06\n209 1.12\n210 1.18\n211 1.24\n212 1.3\n302 0.7\n303 0.76\n304 0.82\n305 0.88\n306 0.94\n307 1.0\n308 1.06\n309 1.12\n310 1.18\n311 1.24\n312 1.3\n402 0.7\n403 0.76\n404 0.82\n405 0.88\n406 0.94\n407 1.0\n408 1.06\n409 1.12\n410 1.18\n411 1.24\n412 1.3\n"
     ]
    }
   ],
   "source": [
    "for L in L_range:\n",
    "    for seed, T in enumerate(T_range_07_13, 2):\n",
    "        print(seed + 10*L, T)"
   ]
  },
  {
   "cell_type": "code",
   "execution_count": null,
   "metadata": {},
   "outputs": [],
   "source": [
    "%%time\n",
    "\n",
    "J = 1\n",
    "n_samples = 1000\n",
    "X = []\n",
    "labels = []\n",
    "sample_dir = './potts_sample_test/t_07_13/'\n",
    "\n",
    "for L in [10]:\n",
    "    \n",
    "    print(\"---------- L =\", L, \"----------\", end='\\n\\n')\n",
    "    \n",
    "    for seed, T in enumerate(T_range_07_13, 2):\n",
    "\n",
    "        np.random.seed(1)  \n",
    "        lattice = Lattice(L, q=3)\n",
    "\n",
    "        np.random.seed(seed + 10*L)\n",
    "\n",
    "        tic = time.process_time()\n",
    "        print('T:', T, end=', ')\n",
    "        p = 1 - np.exp(-2*J/T)\n",
    "\n",
    "        # relaxation\n",
    "        for i in range(1000):\n",
    "            lattice.clusterize(p)\n",
    "\n",
    "        # run\n",
    "        for i in range(n_samples):\n",
    "            for j in range(100):\n",
    "                lattice.clusterize(p)\n",
    "\n",
    "            X.append(np.array(list(nx.get_node_attributes(\n",
    "                lattice.G, 'spin').values()), dtype=int).reshape(L, L))\n",
    "            labels.append(T < T_c)\n",
    "            \n",
    "        toc = time.process_time()\n",
    "        print('time:', toc - tic)\n",
    "    \n",
    "    np.save(sample_dir + f'sample{n_samples}_3potts_L{L}_0994-1_10', X)\n",
    "    np.save(sample_dir + f'labels{n_samples}_3potts_L{L}_0994-1_10', np.array(labels).astype(int))\n",
    "    X[:] = []\n",
    "    labels[:] = []"
   ]
  },
  {
   "cell_type": "code",
   "execution_count": null,
   "metadata": {},
   "outputs": [],
   "source": []
  }
 ],
 "metadata": {
  "kernelspec": {
   "display_name": "Python 3",
   "language": "python",
   "name": "python3"
  },
  "language_info": {
   "codemirror_mode": {
    "name": "ipython",
    "version": 3
   },
   "file_extension": ".py",
   "mimetype": "text/x-python",
   "name": "python",
   "nbconvert_exporter": "python",
   "pygments_lexer": "ipython3",
   "version": "3.8.3"
  },
  "varInspector": {
   "cols": {
    "lenName": 16,
    "lenType": 16,
    "lenVar": 40
   },
   "kernels_config": {
    "python": {
     "delete_cmd_postfix": "",
     "delete_cmd_prefix": "del ",
     "library": "var_list.py",
     "varRefreshCmd": "print(var_dic_list())"
    },
    "r": {
     "delete_cmd_postfix": ") ",
     "delete_cmd_prefix": "rm(",
     "library": "var_list.r",
     "varRefreshCmd": "cat(var_dic_list()) "
    }
   },
   "types_to_exclude": [
    "module",
    "function",
    "builtin_function_or_method",
    "instance",
    "_Feature"
   ],
   "window_display": false
  }
 },
 "nbformat": 4,
 "nbformat_minor": 4
}
